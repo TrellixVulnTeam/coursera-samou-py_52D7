{
 "cells": [
  {
   "cell_type": "code",
   "execution_count": 1,
   "metadata": {},
   "outputs": [
    {
     "data": {
      "text/plain": [
       "True"
      ]
     },
     "execution_count": 1,
     "metadata": {},
     "output_type": "execute_result"
    }
   ],
   "source": [
    "class Singelton:\n",
    "    isinstance = None\n",
    "\n",
    "    def __new__(cls):\n",
    "        if cls.isinstance is None:\n",
    "            cls.isinstance = super().__new__(cls)\n",
    "            \n",
    "        return cls.isinstance\n",
    "\n",
    "a = Singelton()\n",
    "b = Singelton()\n",
    "a is b"
   ]
  },
  {
   "cell_type": "code",
   "execution_count": 6,
   "metadata": {},
   "outputs": [
    {
     "name": "stdout",
     "output_type": "stream",
     "text": [
      "5\n",
      "25\n"
     ]
    }
   ],
   "source": [
    "class PascalList:\n",
    "    def __init__(self,original_list=None):\n",
    "        self.container = original_list or []\n",
    "        \n",
    "    def __getitem__(self,index):\n",
    "        return self.container[index -1]\n",
    "    \n",
    "    def __setitem__(self, index, value):\n",
    "        self.container[index - 1] =value\n",
    "        \n",
    "    def __str__(self):\n",
    "        return self.container.__str__()\n",
    "    \n",
    "    \n",
    "    \n",
    "numbers = PascalList([1,2,3,4,5])\n",
    "print(numbers[5])     \n",
    "\n",
    "numbers[5] = 25\n",
    "print(numbers[5])\n",
    "        "
   ]
  },
  {
   "cell_type": "code",
   "execution_count": null,
   "metadata": {},
   "outputs": [],
   "source": []
  }
 ],
 "metadata": {
  "kernelspec": {
   "display_name": "Python 3",
   "language": "python",
   "name": "python3"
  },
  "language_info": {
   "codemirror_mode": {
    "name": "ipython",
    "version": 3
   },
   "file_extension": ".py",
   "mimetype": "text/x-python",
   "name": "python",
   "nbconvert_exporter": "python",
   "pygments_lexer": "ipython3",
   "version": "3.6.9"
  }
 },
 "nbformat": 4,
 "nbformat_minor": 2
}
