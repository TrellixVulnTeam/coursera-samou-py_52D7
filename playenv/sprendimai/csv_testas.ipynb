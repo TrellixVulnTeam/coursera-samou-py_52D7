{
 "cells": [
  {
   "cell_type": "code",
   "execution_count": 177,
   "metadata": {},
   "outputs": [
    {
     "name": "stdout",
     "output_type": "stream",
     "text": [
      "['car', 'Nissan xTtrail', '4', 'f1.jpeg', '', '2.5', '']\n",
      "['truck', 'Man', '', 'f2.png', '8x3x2.5', '20', '']\n",
      "['truck', 'Man', '', 'f2.png', '', '20', '']\n",
      "['car', 'Mazda 6', '4', 'f3.jpeg', '', '2.5', '']\n",
      "['', '', '', '']\n",
      "['spec_machine', 'Hitachi', '', 'f4', '', '1.2', 'Легкая техника для уборки снега']\n",
      "[]\n"
     ]
    }
   ],
   "source": [
    "import csv\n",
    "csv_filename = 'coursera_week3_cars.csv'\n",
    "\n",
    "with open(csv_filename) as csv_fd:\n",
    "    reader = csv.reader(csv_fd, delimiter=';')\n",
    "    next(reader)  # пропускаем заголовок\n",
    "    for row in reader:\n",
    "        print(row)"
   ]
  },
  {
   "cell_type": "code",
   "execution_count": 178,
   "metadata": {},
   "outputs": [
    {
     "name": "stdout",
     "output_type": "stream",
     "text": [
      "<class 'str'>\n",
      "<class 'list'>\n"
     ]
    }
   ],
   "source": [
    "print(type(csv_filename))\n",
    "print(type(row))"
   ]
  },
  {
   "cell_type": "code",
   "execution_count": 179,
   "metadata": {},
   "outputs": [],
   "source": [
    "def get_car_list(csv_filename):\n",
    "    car_list = []\n",
    "    \n",
    "    with open(csv_filename) as csv_fd:\n",
    "        reader = csv.reader(csv_fd, delimiter=';')\n",
    "        next(reader)  # пропускаем заголовок\n",
    "        for row in reader:\n",
    "            print(row)\n",
    "            car_list.append(row)\n",
    "    \n",
    "    \n",
    "    return car_list\n"
   ]
  },
  {
   "cell_type": "code",
   "execution_count": 180,
   "metadata": {},
   "outputs": [
    {
     "name": "stdout",
     "output_type": "stream",
     "text": [
      "['car', 'Nissan xTtrail', '4', 'f1.jpeg', '', '2.5', '']\n",
      "['truck', 'Man', '', 'f2.png', '8x3x2.5', '20', '']\n",
      "['truck', 'Man', '', 'f2.png', '', '20', '']\n",
      "['car', 'Mazda 6', '4', 'f3.jpeg', '', '2.5', '']\n",
      "['', '', '', '']\n",
      "['spec_machine', 'Hitachi', '', 'f4', '', '1.2', 'Легкая техника для уборки снега']\n",
      "[]\n"
     ]
    },
    {
     "data": {
      "text/plain": [
       "[['car', 'Nissan xTtrail', '4', 'f1.jpeg', '', '2.5', ''],\n",
       " ['truck', 'Man', '', 'f2.png', '8x3x2.5', '20', ''],\n",
       " ['truck', 'Man', '', 'f2.png', '', '20', ''],\n",
       " ['car', 'Mazda 6', '4', 'f3.jpeg', '', '2.5', ''],\n",
       " ['', '', '', ''],\n",
       " ['spec_machine',\n",
       "  'Hitachi',\n",
       "  '',\n",
       "  'f4',\n",
       "  '',\n",
       "  '1.2',\n",
       "  'Легкая техника для уборки снега'],\n",
       " []]"
      ]
     },
     "execution_count": 180,
     "metadata": {},
     "output_type": "execute_result"
    }
   ],
   "source": [
    "get_car_list(csv_filename)"
   ]
  },
  {
   "cell_type": "code",
   "execution_count": 185,
   "metadata": {},
   "outputs": [],
   "source": [
    "\n",
    "def parse_row(row):\n",
    "    if len(row) > 8:\n",
    "        return None\n",
    "    \n",
    "    auto = None\n",
    "    \n",
    "    if str(row[:1]) == str(['car']):\n",
    "        auto = 'car'\n",
    "        #auto.set_passanger_seats_count(str(row[:3]))\n",
    "    elif str(row[:1]) == str(['truck']):\n",
    "        auto = 'truck'\n",
    "    elif str(row[:1]) == str(['spec_machine']):\n",
    "        auto = 'spec-machine'\n",
    "        #auto.set_extra(str(row[:7]))\n",
    "    else:\n",
    "        return None\n",
    "    \n",
    "    return auto\n",
    "\n",
    "def get_car_list(csv_filename):\n",
    "    car_list = []\n",
    "    \n",
    "    with open(csv_filename) as csv_fd:\n",
    "        reader = csv.reader(csv_fd, delimiter=';')\n",
    "        next(reader)  # пропускаем заголовок\n",
    "        for row in reader:\n",
    "            auto = parse_row(row)\n",
    "            if auto is not None:\n",
    "                print(row)\n",
    "                car_list.append(auto)\n",
    "    \n",
    "    \n",
    "    return car_list\n"
   ]
  },
  {
   "cell_type": "code",
   "execution_count": 186,
   "metadata": {},
   "outputs": [
    {
     "name": "stdout",
     "output_type": "stream",
     "text": [
      "['car', 'Nissan xTtrail', '4', 'f1.jpeg', '', '2.5', '']\n",
      "['truck', 'Man', '', 'f2.png', '8x3x2.5', '20', '']\n",
      "['truck', 'Man', '', 'f2.png', '', '20', '']\n",
      "['car', 'Mazda 6', '4', 'f3.jpeg', '', '2.5', '']\n",
      "['spec_machine', 'Hitachi', '', 'f4', '', '1.2', 'Легкая техника для уборки снега']\n"
     ]
    },
    {
     "data": {
      "text/plain": [
       "['car', 'truck', 'truck', 'car', 'spec-machine']"
      ]
     },
     "execution_count": 186,
     "metadata": {},
     "output_type": "execute_result"
    }
   ],
   "source": [
    "get_car_list(csv_filename)"
   ]
  },
  {
   "cell_type": "code",
   "execution_count": null,
   "metadata": {},
   "outputs": [],
   "source": []
  },
  {
   "cell_type": "code",
   "execution_count": null,
   "metadata": {},
   "outputs": [],
   "source": []
  }
 ],
 "metadata": {
  "kernelspec": {
   "display_name": "Python 3",
   "language": "python",
   "name": "python3"
  },
  "language_info": {
   "codemirror_mode": {
    "name": "ipython",
    "version": 3
   },
   "file_extension": ".py",
   "mimetype": "text/x-python",
   "name": "python",
   "nbconvert_exporter": "python",
   "pygments_lexer": "ipython3",
   "version": "3.6.9"
  }
 },
 "nbformat": 4,
 "nbformat_minor": 4
}
